{
 "cells": [
  {
   "cell_type": "markdown",
   "metadata": {},
   "source": [
    "## BC Raw Log Exports\n",
    "\n",
    "Data taken from [Forest - BC Govt](https://www2.gov.bc.ca/gov/content/data/statistics/business-industry-trade/industry/forestry)\n"
   ]
  },
  {
   "cell_type": "code",
   "execution_count": 14,
   "metadata": {},
   "outputs": [],
   "source": [
    "import pandas as pd\n",
    "import matplotlib.pyplot as plt\n",
    "%matplotlib inline  "
   ]
  },
  {
   "cell_type": "code",
   "execution_count": 38,
   "metadata": {},
   "outputs": [
    {
     "name": "stdout",
     "output_type": "stream",
     "text": [
      "<class 'pandas.core.frame.DataFrame'>\n",
      "Int64Index: 7735 entries, 0 to 7734\n",
      "Data columns (total 6 columns):\n",
      "Year                   7735 non-null object\n",
      "Month                  7735 non-null object\n",
      "Commodity              7735 non-null object\n",
      "Destination Country    7735 non-null object\n",
      "Value - Cdn $          7735 non-null float64\n",
      "Quantity - m3          7735 non-null float64\n",
      "dtypes: float64(2), object(4)\n",
      "memory usage: 423.0+ KB\n"
     ]
    }
   ],
   "source": [
    "raw_data = pd.read_csv(\"raw_data/BCLogExports_MinFor_180112.csv\",header=1,thousands=\",\").dropna(how='any')\n",
    "raw_data.info()"
   ]
  },
  {
   "cell_type": "code",
   "execution_count": 39,
   "metadata": {},
   "outputs": [],
   "source": [
    "raw_data.columns = [\"Year\",\"Month\",\"Commodity\",'Destination','Value','Quantity']"
   ]
  },
  {
   "cell_type": "code",
   "execution_count": 48,
   "metadata": {},
   "outputs": [],
   "source": [
    "dfMonths = pd.DataFrame({'Month':['January', 'February', 'March', 'April', 'May', 'June', 'July',\n",
    "       'August', 'September', 'October', 'November', 'December'],'MonthIndex':range(12)})\n",
    "data = pd.merge(raw_data,dfMonths,on=\"Month\")\n",
    "data['Year'] = data['Year'].apply(int)"
   ]
  },
  {
   "cell_type": "code",
   "execution_count": 54,
   "metadata": {},
   "outputs": [],
   "source": [
    "aggregated = data.groupby(['Year','Destination'])['Value','Quantity'].sum()\n",
    "totals = aggregated.reset_index().groupby(['Year']).sum()"
   ]
  },
  {
   "cell_type": "code",
   "execution_count": 59,
   "metadata": {},
   "outputs": [
    {
     "data": {
      "text/plain": [
       "[<matplotlib.lines.Line2D at 0x7fed555f5668>]"
      ]
     },
     "execution_count": 59,
     "metadata": {},
     "output_type": "execute_result"
    },
    {
     "data": {
      "image/png": "[encoded data removed]",
      "text/plain": [
       "<matplotlib.figure.Figure at 0x7fed555fb860>"
      ]
     },
     "metadata": {},
     "output_type": "display_data"
    }
   ],
   "source": [
    "plt.plot(totals['Value']/1000000)"
   ]
  },
  {
   "cell_type": "code",
   "execution_count": 66,
   "metadata": {},
   "outputs": [
    {
     "data": {
      "text/plain": [
       "Index(['Albania', 'Australia', 'Austria', 'Azerbaijan', 'Bahamas', 'Bahrain',\n",
       "       'Bangladesh', 'Belgium', 'Bermuda', 'Czech Republic', 'Denmark',\n",
       "       'Finland', 'France', 'French Polynesia', 'Germany', 'Greece',\n",
       "       'Guatemala', 'Hong Kong', 'Iceland', 'India', 'Indonesia', 'Ireland',\n",
       "       'Israel', 'Italy', 'Japan', 'Jordan', 'Kazakhstan', 'Kuwait', 'Laos',\n",
       "       'Latvia', 'Lebanon', 'Mainland China', 'Malaysia', 'Mexico',\n",
       "       'Netherlands', 'New Zealand', 'North Korea', 'Pakistan', 'Peru',\n",
       "       'Philippines', 'Russia', 'Saudi Arabia', 'Singapore', 'South Africa',\n",
       "       'South Korea', 'Spain', 'St Pierre-Miquelin', 'Sweden', 'Switzerland',\n",
       "       'Taiwan', 'Thailand', 'Turkey', 'United Arab Emirates',\n",
       "       'United Kingdom', 'United States', 'Vietnam'],\n",
       "      dtype='object', name='Destination')"
      ]
     },
     "execution_count": 66,
     "metadata": {},
     "output_type": "execute_result"
    }
   ],
   "source": [
    "annual_pivot = aggregated.reset_index().pivot(index=\"Year\",columns=\"Destination\",values=\"Value\").fillna(0)\n",
    "annual_pivot.columns"
   ]
  },
  {
   "cell_type": "code",
   "execution_count": 64,
   "metadata": {},
   "outputs": [
    {
     "data": {
      "text/html": [
       "<div>\n",
       "<table border=\"1\" class=\"dataframe\">\n",
       "  <thead>\n",
       "    <tr style=\"text-align: right;\">\n",
       "      <th></th>\n",
       "      <th>Value</th>\n",
       "      <th>Quantity</th>\n",
       "    </tr>\n",
       "    <tr>\n",
       "      <th>Year</th>\n",
       "      <th></th>\n",
       "      <th></th>\n",
       "    </tr>\n",
       "  </thead>\n",
       "  <tbody>\n",
       "    <tr>\n",
       "      <th>1988</th>\n",
       "      <td>294932334.0</td>\n",
       "      <td>3183121.0</td>\n",
       "    </tr>\n",
       "    <tr>\n",
       "      <th>1989</th>\n",
       "      <td>183408318.0</td>\n",
       "      <td>1968056.0</td>\n",
       "    </tr>\n",
       "    <tr>\n",
       "      <th>1990</th>\n",
       "      <td>95646194.0</td>\n",
       "      <td>797274.0</td>\n",
       "    </tr>\n",
       "    <tr>\n",
       "      <th>1991</th>\n",
       "      <td>82323540.0</td>\n",
       "      <td>766495.0</td>\n",
       "    </tr>\n",
       "    <tr>\n",
       "      <th>1992</th>\n",
       "      <td>152737916.0</td>\n",
       "      <td>1165655.0</td>\n",
       "    </tr>\n",
       "    <tr>\n",
       "      <th>1993</th>\n",
       "      <td>167591368.0</td>\n",
       "      <td>1027330.0</td>\n",
       "    </tr>\n",
       "    <tr>\n",
       "      <th>1994</th>\n",
       "      <td>110803345.0</td>\n",
       "      <td>719392.0</td>\n",
       "    </tr>\n",
       "    <tr>\n",
       "      <th>1995</th>\n",
       "      <td>88832654.0</td>\n",
       "      <td>620699.0</td>\n",
       "    </tr>\n",
       "    <tr>\n",
       "      <th>1996</th>\n",
       "      <td>60501972.0</td>\n",
       "      <td>377537.0</td>\n",
       "    </tr>\n",
       "    <tr>\n",
       "      <th>1997</th>\n",
       "      <td>38188711.0</td>\n",
       "      <td>168141.0</td>\n",
       "    </tr>\n",
       "    <tr>\n",
       "      <th>1998</th>\n",
       "      <td>128343896.0</td>\n",
       "      <td>855314.0</td>\n",
       "    </tr>\n",
       "    <tr>\n",
       "      <th>1999</th>\n",
       "      <td>251911533.0</td>\n",
       "      <td>1752442.0</td>\n",
       "    </tr>\n",
       "    <tr>\n",
       "      <th>2000</th>\n",
       "      <td>339363172.0</td>\n",
       "      <td>2342580.0</td>\n",
       "    </tr>\n",
       "    <tr>\n",
       "      <th>2001</th>\n",
       "      <td>370373987.0</td>\n",
       "      <td>2813216.0</td>\n",
       "    </tr>\n",
       "    <tr>\n",
       "      <th>2002</th>\n",
       "      <td>515130033.0</td>\n",
       "      <td>3973161.0</td>\n",
       "    </tr>\n",
       "    <tr>\n",
       "      <th>2003</th>\n",
       "      <td>459006054.0</td>\n",
       "      <td>4048500.0</td>\n",
       "    </tr>\n",
       "    <tr>\n",
       "      <th>2004</th>\n",
       "      <td>425090828.0</td>\n",
       "      <td>3464811.0</td>\n",
       "    </tr>\n",
       "    <tr>\n",
       "      <th>2005</th>\n",
       "      <td>534035466.0</td>\n",
       "      <td>4768942.0</td>\n",
       "    </tr>\n",
       "    <tr>\n",
       "      <th>2006</th>\n",
       "      <td>487090622.0</td>\n",
       "      <td>4313780.0</td>\n",
       "    </tr>\n",
       "    <tr>\n",
       "      <th>2007</th>\n",
       "      <td>368526968.0</td>\n",
       "      <td>3338846.0</td>\n",
       "    </tr>\n",
       "    <tr>\n",
       "      <th>2008</th>\n",
       "      <td>277650098.0</td>\n",
       "      <td>2621908.0</td>\n",
       "    </tr>\n",
       "    <tr>\n",
       "      <th>2009</th>\n",
       "      <td>248556945.0</td>\n",
       "      <td>2457692.0</td>\n",
       "    </tr>\n",
       "    <tr>\n",
       "      <th>2010</th>\n",
       "      <td>372871006.0</td>\n",
       "      <td>3736465.0</td>\n",
       "    </tr>\n",
       "    <tr>\n",
       "      <th>2011</th>\n",
       "      <td>588463805.0</td>\n",
       "      <td>5449900.0</td>\n",
       "    </tr>\n",
       "    <tr>\n",
       "      <th>2012</th>\n",
       "      <td>576872971.0</td>\n",
       "      <td>5710643.0</td>\n",
       "    </tr>\n",
       "    <tr>\n",
       "      <th>2013</th>\n",
       "      <td>801846574.0</td>\n",
       "      <td>6666346.0</td>\n",
       "    </tr>\n",
       "    <tr>\n",
       "      <th>2014</th>\n",
       "      <td>783868404.0</td>\n",
       "      <td>6269112.0</td>\n",
       "    </tr>\n",
       "    <tr>\n",
       "      <th>2015</th>\n",
       "      <td>665534308.0</td>\n",
       "      <td>5567132.0</td>\n",
       "    </tr>\n",
       "    <tr>\n",
       "      <th>2016</th>\n",
       "      <td>770520945.0</td>\n",
       "      <td>6282771.0</td>\n",
       "    </tr>\n",
       "    <tr>\n",
       "      <th>2017</th>\n",
       "      <td>747400743.0</td>\n",
       "      <td>5584411.0</td>\n",
       "    </tr>\n",
       "  </tbody>\n",
       "</table>\n",
       "</div>"
      ],
      "text/plain": [
       "            Value   Quantity\n",
       "Year                        \n",
       "1988  294932334.0  3183121.0\n",
       "1989  183408318.0  1968056.0\n",
       "1990   95646194.0   797274.0\n",
       "1991   82323540.0   766495.0\n",
       "1992  152737916.0  1165655.0\n",
       "1993  167591368.0  1027330.0\n",
       "1994  110803345.0   719392.0\n",
       "1995   88832654.0   620699.0\n",
       "1996   60501972.0   377537.0\n",
       "1997   38188711.0   168141.0\n",
       "1998  128343896.0   855314.0\n",
       "1999  251911533.0  1752442.0\n",
       "2000  339363172.0  2342580.0\n",
       "2001  370373987.0  2813216.0\n",
       "2002  515130033.0  3973161.0\n",
       "2003  459006054.0  4048500.0\n",
       "2004  425090828.0  3464811.0\n",
       "2005  534035466.0  4768942.0\n",
       "2006  487090622.0  4313780.0\n",
       "2007  368526968.0  3338846.0\n",
       "2008  277650098.0  2621908.0\n",
       "2009  248556945.0  2457692.0\n",
       "2010  372871006.0  3736465.0\n",
       "2011  588463805.0  5449900.0\n",
       "2012  576872971.0  5710643.0\n",
       "2013  801846574.0  6666346.0\n",
       "2014  783868404.0  6269112.0\n",
       "2015  665534308.0  5567132.0\n",
       "2016  770520945.0  6282771.0\n",
       "2017  747400743.0  5584411.0"
      ]
     },
     "execution_count": 64,
     "metadata": {},
     "output_type": "execute_result"
    }
   ],
   "source": []
  },
  {
   "cell_type": "code",
   "execution_count": null,
   "metadata": {},
   "outputs": [],
   "source": []
  }
 ],
 "metadata": {
  "kernelspec": {
   "display_name": "Python 3",
   "language": "python",
   "name": "python3"
  },
  "language_info": {
   "codemirror_mode": {
    "name": "ipython",
    "version": 3
   },
   "file_extension": ".py",
   "mimetype": "text/x-python",
   "name": "python",
   "nbconvert_exporter": "python",
   "pygments_lexer": "ipython3",
   "version": "3.6.4"
  }
 },
 "nbformat": 4,
 "nbformat_minor": 2
}
