{
 "cells": [
  {
   "cell_type": "markdown",
   "metadata": {},
   "source": [
    "## Spatial statistics and generalised interpolation\n",
    "\n",
    "Notebook investigating interpolation, including Radial Basis Functions (RBF) and Kriging examples.\n",
    "\n",
    "The calculations are performed within this notebook. The numpy python library is used for the underlying linear algebra of matrix inversion and multiplication, and the method-specific steps are coded within this notebook."
   ]
  },
  {
   "cell_type": "code",
   "execution_count": 1,
   "metadata": {},
   "outputs": [],
   "source": [
    "import pandas as pd\n",
    "import numpy as np\n",
    "import matplotlib.pyplot as plt\n",
    "%matplotlib inline  "
   ]
  },
  {
   "cell_type": "markdown",
   "metadata": {},
   "source": [
    "### Linear weighting\n",
    "\n",
    "Consider the real function $f(X)$ where $X$ is a vector in an m-dimensional space. Take also a set of points $X_i$ with $i$ running from $1$ to $N$. We can form the vector $F$ with $F_i = f(X_i)$.\n",
    "\n",
    "Define the estimated function $g(X) = \\sum_{i=1}^N W_i(X) F_i = W(X).F$, where $W(X)$ is a vector of weights; in general these weights are a function of $X$. One-dimensional linear interpolation, for example, corresponds to the case where $m=1$ and the weights are determined by distances to the nearest neighbour(s).\n",
    "\n",
    "Two cases of interest are RBF and Kriging. The general approach is to define the function $f(X)$, then a procedure for preparing the values needed to pass to a weight generating function that determines $W(X)$; in other words precalculation of the parameters used within $W(X)$ is desirable for efficiency. "
   ]
  },
  {
   "cell_type": "markdown",
   "metadata": {},
   "source": [
    "### RBF\n",
    "\n",
    "Radial basis functions are based around a kernel function $k(A,B)$ that represents some idea of the distance between points $A$ and $B$. In general the kernel function is symmetric, so $k(A,B) = k(B,A)$, and also translationally invariant, so $k(A,B) = \\phi(A-B)$.\n",
    "\n",
    "Consider the function $h(X) = \\sum_i k(X,X_i) \\alpha_i$ for a vector $\\alpha$ of factors, one for each point $X_i$. Then we can form $H$ according to $H_i = h(X_i)$, and then find the factors $\\alpha$ that minimize the regularized\n",
    "likelihood $L = \\frac{1}{2}\\left(F-H\\right)^2 + \\frac{\\lambda}{2}\\left(\\alpha K \\alpha\\right)$, where the matrix $K$ has been formed as $K_{ij} = k(X_i,X_j)$, so $H = K.\\alpha$.\n",
    "\n",
    "Minimizing the likelihood yields $\\alpha = \\left(K-\\lambda\\right)^{-1} F$. Note that this means that the estimated function is of the linear weighting form described above."
   ]
  },
  {
   "cell_type": "code",
   "execution_count": 2,
   "metadata": {},
   "outputs": [],
   "source": [
    "def simple_kernel(a,b):\n",
    "    diff = a-b\n",
    "    len2 = np.dot(diff,diff)\n",
    "    return 1.0/(1.0+0.5*len2)"
   ]
  },
  {
   "cell_type": "code",
   "execution_count": 3,
   "metadata": {},
   "outputs": [],
   "source": [
    "def function(x):\n",
    "    return x[1]*x[0] + np.log(x[0]+0.001)+x[2]*x[2]*x[2]"
   ]
  },
  {
   "cell_type": "code",
   "execution_count": 4,
   "metadata": {},
   "outputs": [
    {
     "data": {
      "text/html": [
       "<div>\n",
       "<table border=\"1\" class=\"dataframe\">\n",
       "  <thead>\n",
       "    <tr style=\"text-align: right;\">\n",
       "      <th></th>\n",
       "      <th>0</th>\n",
       "      <th>1</th>\n",
       "      <th>2</th>\n",
       "    </tr>\n",
       "  </thead>\n",
       "  <tbody>\n",
       "    <tr>\n",
       "      <th>0</th>\n",
       "      <td>1</td>\n",
       "      <td>2</td>\n",
       "      <td>3</td>\n",
       "    </tr>\n",
       "    <tr>\n",
       "      <th>1</th>\n",
       "      <td>4</td>\n",
       "      <td>5</td>\n",
       "      <td>6</td>\n",
       "    </tr>\n",
       "    <tr>\n",
       "      <th>2</th>\n",
       "      <td>0</td>\n",
       "      <td>1</td>\n",
       "      <td>0</td>\n",
       "    </tr>\n",
       "    <tr>\n",
       "      <th>3</th>\n",
       "      <td>1</td>\n",
       "      <td>0</td>\n",
       "      <td>0</td>\n",
       "    </tr>\n",
       "  </tbody>\n",
       "</table>\n",
       "</div>"
      ],
      "text/plain": [
       "   0  1  2\n",
       "0  1  2  3\n",
       "1  4  5  6\n",
       "2  0  1  0\n",
       "3  1  0  0"
      ]
     },
     "execution_count": 4,
     "metadata": {},
     "output_type": "execute_result"
    }
   ],
   "source": [
    "test_points = pd.DataFrame([[1,2,3],\n",
    "                           [4,5,6],\n",
    "                           [0,1,0],\n",
    "                           [1,0,0]])\n",
    "test_points"
   ]
  },
  {
   "cell_type": "code",
   "execution_count": 5,
   "metadata": {},
   "outputs": [],
   "source": [
    "def form_rbf_artifacts(function, kernel, points, lambd = 0):\n",
    "    # Form the F vector\n",
    "    pointValues = points.apply(function,axis=1)\n",
    "    numPoints = len(points)\n",
    "    # Form the kernel matrix K\n",
    "    cMat = np.zeros(shape=(numPoints,numPoints))\n",
    "    for i in range(numPoints):\n",
    "        iRow = np.array(points.iloc[i])\n",
    "        for j in range(i,numPoints):\n",
    "            cMat[i,j] = kernel(iRow,points.iloc[j])\n",
    "            cMat[j,i] = cMat[i,j]\n",
    "    resolv = cMat - (lambd*np.identity(numPoints))\n",
    "    resInv = np.linalg.inv(resolv)\n",
    "    alpha = np.matmul(resInv, pointValues)\n",
    "    def points_estimator(x,kernel,points,**kwargs):\n",
    "        return points.apply(lambda pointsRow: kernel(x,pointsRow),axis=1)\n",
    "    def estimator(x,alpha,**kwargs):\n",
    "        kVec = points_estimator(x,**kwargs)\n",
    "        return np.dot(kVec,alpha)\n",
    "        \n",
    "    return estimator , {\n",
    "        'kernel':kernel,\n",
    "        'function':function,\n",
    "        'pointValues':pointValues,\n",
    "        'points':points,\n",
    "        'lambda':lambd,\n",
    "        'alpha':alpha,\n",
    "        'resInv':resInv,\n",
    "        'points_estimator':points_estimator,\n",
    "    }"
   ]
  },
  {
   "cell_type": "code",
   "execution_count": 6,
   "metadata": {},
   "outputs": [],
   "source": [
    "estimator, kwargs = form_rbf_artifacts(function, simple_kernel, test_points)"
   ]
  },
  {
   "cell_type": "code",
   "execution_count": 7,
   "metadata": {},
   "outputs": [
    {
     "name": "stdout",
     "output_type": "stream",
     "text": [
      "96.1636872756\n",
      "29.0009995003\n",
      "29.0009995003\n"
     ]
    },
    {
     "data": {
      "text/plain": [
       "0   -3.552714e-15\n",
       "1    5.684342e-14\n",
       "2   -8.881784e-16\n",
       "3   -2.645453e-16\n",
       "dtype: float64"
      ]
     },
     "execution_count": 7,
     "metadata": {},
     "output_type": "execute_result"
    }
   ],
   "source": [
    "print(estimator(np.array([3,4,5]),**kwargs))\n",
    "print(estimator([1,2,3],**kwargs))\n",
    "print(estimator(test_points.iloc[0],**kwargs))\n",
    "test_points.apply(estimator,axis=1,**kwargs)-kwargs['pointValues']"
   ]
  },
  {
   "cell_type": "markdown",
   "metadata": {},
   "source": [
    "## Kriging\n",
    "\n",
    "This is another weighted sum approach. In this method, the weights are chosen to minimize the expected variance of the predicted value. Specifically, given an $N$-dimensional vector of ones, $U$, we require that the weights $\\beta$ be\n",
    "normalised so $U.\\beta = 1$ and the weights are chosen for a given $X$ to minimize the variance of the estimated\n",
    "value $g(X) = \\beta(X).F$ by leveraging the covariance function $c(X,Y)$.\n",
    "\n",
    "Defining $C$ as the matrix formed using $C_{ij} = c(X_i,X_j)$ and the point covariance vector $D(X)$ as $D_i = c(X,X_i)$, the variance at $X$ is given\n",
    "by $\\sigma^2 = c(X,X) + \\beta C \\beta - 2 \\beta D$.\n",
    "\n",
    "Minimizing this variance with the constraint on the sum of the\n",
    "$\\beta$ values gives $\\beta = C^{-1}(D - \\lambda U)$ where $\\lambda = \\frac{(U C^{-1} D - 1)}{U C^{-1} U}$ is the Lagrange parameter introduced with the constraint."
   ]
  },
  {
   "cell_type": "code",
   "execution_count": 8,
   "metadata": {},
   "outputs": [],
   "source": [
    "def form_kriging_artifacts(function, covariance, points):\n",
    "    # Determine C and its inverse\n",
    "    pointValues = points.apply(function,axis=1)\n",
    "    numPoints = len(points)\n",
    "    # Form the kernel matrix K\n",
    "    unit_vec = np.ones(numPoints)\n",
    "    cMat = np.zeros(shape=(numPoints,numPoints))\n",
    "    for i in range(numPoints):\n",
    "        iRow = np.array(points.iloc[i])\n",
    "        for j in range(i,numPoints):\n",
    "            cMat[i,j] = covariance(iRow,points.iloc[j])\n",
    "            cMat[j,i] = cMat[i,j]\n",
    "    cInv = np.linalg.inv(cMat)\n",
    "    lambda_factor = 1.0 / (np.dot(unit_vec,np.dot(cInv,unit_vec)))\n",
    "    def estimator(x,points,covariance,unit_vec,cInv,lambda_factor,pointValues,**kwargs):\n",
    "        dVec = points.apply(covariance,axis=1,y=x)\n",
    "        lTop = np.dot(unit_vec,np.dot(cInv,dVec)) - 1.0\n",
    "        lambdaVal = lTop * lambda_factor\n",
    "        beta = np.matmul(cInv,dVec - lambdaVal * unit_vec)\n",
    "        return np.matmul(beta,pointValues)\n",
    "    return estimator, {\n",
    "        'function':function,\n",
    "        'covariance':covariance,\n",
    "        'pointValues':pointValues,\n",
    "        'points':points,\n",
    "        'cMatrix':cMat,\n",
    "        'cInv':cInv,\n",
    "        'unit_vec':unit_vec,\n",
    "        'lambda_factor':lambda_factor,\n",
    "    }\n"
   ]
  },
  {
   "cell_type": "code",
   "execution_count": 9,
   "metadata": {},
   "outputs": [],
   "source": [
    "def covariance(x,y):\n",
    "    diff = x - y\n",
    "    dist = np.dot(diff,diff)/50\n",
    "    return 1 - np.tanh(dist)\n"
   ]
  },
  {
   "cell_type": "code",
   "execution_count": 10,
   "metadata": {},
   "outputs": [],
   "source": [
    "estimator, kwargs = form_kriging_artifacts(function,covariance,test_points)"
   ]
  },
  {
   "cell_type": "code",
   "execution_count": 11,
   "metadata": {},
   "outputs": [
    {
     "name": "stdout",
     "output_type": "stream",
     "text": [
      "170.496536374\n",
      "29.0009995003\n",
      "29.0009995003\n"
     ]
    },
    {
     "data": {
      "text/plain": [
       "0    2.486900e-14\n",
       "1    8.526513e-14\n",
       "2   -8.881784e-16\n",
       "3   -4.078205e-14\n",
       "dtype: float64"
      ]
     },
     "execution_count": 11,
     "metadata": {},
     "output_type": "execute_result"
    }
   ],
   "source": [
    "print(estimator(np.array([3,4,5]),**kwargs))\n",
    "print(estimator([1,2,3],**kwargs))\n",
    "print(estimator(test_points.iloc[0],**kwargs))\n",
    "test_points.apply(estimator,axis=1,**kwargs)-kwargs['pointValues']"
   ]
  },
  {
   "cell_type": "markdown",
   "metadata": {},
   "source": [
    "## One dimensional test function\n",
    "\n",
    "We use $f(x) = x^3 - 5$ as a simple test function, and compare RBF and Kriging. We use both regularized and unregularized RBF estimation. A limited range from $-2$ to $+2$ is used for the $9$ base points."
   ]
  },
  {
   "cell_type": "code",
   "execution_count": 12,
   "metadata": {},
   "outputs": [],
   "source": [
    "func1D = lambda x: (x*x*x -5)"
   ]
  },
  {
   "cell_type": "code",
   "execution_count": 13,
   "metadata": {},
   "outputs": [],
   "source": [
    "func1DEst, kwargs = form_rbf_artifacts(func1D, simple_kernel, pd.DataFrame([-2,-1.5,-1,-0.5,0,0.5,1,1.5,2]))\n",
    "func1DReg, krargs = form_rbf_artifacts(func1D, simple_kernel, pd.DataFrame([-2,-1.5,-1,-0.5,0,0.5,1,1.5,2]),lambd=-0.5)\n",
    "func1DKre, krawgs = form_kriging_artifacts(func1D, covariance, pd.DataFrame([-2,-1.5,-1,-0.5,0,0.5,1,1.5,2]))\n"
   ]
  },
  {
   "cell_type": "code",
   "execution_count": 14,
   "metadata": {},
   "outputs": [],
   "source": [
    "xVec = np.arange(-400,400) / 20"
   ]
  },
  {
   "cell_type": "code",
   "execution_count": 15,
   "metadata": {},
   "outputs": [],
   "source": [
    "vals = [func1DEst(x,**kwargs) for x in xVec]\n",
    "actVals = [func1D(x) for x in xVec]\n",
    "kals = [func1DKre(x,**krawgs) for x in xVec]\n",
    "rals = [func1DReg(x,**krargs) for x in xVec]\n",
    "\n",
    "ratio = [v/a for v,a in zip(vals,actVals)]\n",
    "rario = [v/a for v,a in zip(rals,actVals)]\n",
    "katio = [v/a for v,a in zip(kals,actVals)]\n"
   ]
  },
  {
   "cell_type": "code",
   "execution_count": 16,
   "metadata": {},
   "outputs": [
    {
     "data": {
      "text/plain": [
       "Text(0.5,0.98,'One-dimensional function estimation')"
      ]
     },
     "execution_count": 16,
     "metadata": {},
     "output_type": "execute_result"
    },
    {
     "data": {
      "image/png": "[encoded data removed]",
      "text/plain": [
       "<matplotlib.figure.Figure at 0x7f938820dba8>"
      ]
     },
     "metadata": {},
     "output_type": "display_data"
    }
   ],
   "source": [
    "plt.plot(xVec,actVals,label=\"Underlying\")\n",
    "plt.plot(xVec,vals,label=\"RBF\")\n",
    "plt.plot(xVec,rals,label=\"Regularized RBF\")\n",
    "plt.plot(xVec,kals,label=\"Kriging\")\n",
    "\n",
    "axes = plt.gca()\n",
    "axes.set_ylim([-120,120])\n",
    "\n",
    "plt.legend()\n",
    "plt.suptitle(\"One-dimensional function estimation\",fontsize=20)"
   ]
  },
  {
   "cell_type": "code",
   "execution_count": 17,
   "metadata": {},
   "outputs": [
    {
     "data": {
      "text/plain": [
       "<matplotlib.legend.Legend at 0x7f9386885668>"
      ]
     },
     "execution_count": 17,
     "metadata": {},
     "output_type": "execute_result"
    },
    {
     "data": {
      "image/png": "[encoded data removed]",
      "text/plain": [
       "<matplotlib.figure.Figure at 0x7f93868f66a0>"
      ]
     },
     "metadata": {},
     "output_type": "display_data"
    }
   ],
   "source": [
    "plt.plot(xVec,vals,label=\"RBF\")\n",
    "plt.plot(xVec,rals,label=\"Regularized RBF\")\n",
    "plt.plot(xVec,kals,label=\"Kriging\")\n",
    "plt.plot(xVec,actVals,label=\"Underlying\")\n",
    "\n",
    "axes = plt.gca()\n",
    "axes.set_xlim([-5,5])\n",
    "axes.set_ylim([-10,10])\n",
    "plt.suptitle(\"One-dimensional function estimation - close up\",fontsize=20)\n",
    "plt.legend()"
   ]
  },
  {
   "cell_type": "code",
   "execution_count": 18,
   "metadata": {},
   "outputs": [
    {
     "data": {
      "text/plain": [
       "<matplotlib.legend.Legend at 0x7f93867fbeb8>"
      ]
     },
     "execution_count": 18,
     "metadata": {},
     "output_type": "execute_result"
    },
    {
     "data": {
      "image/png": "[encoded data removed]",
      "text/plain": [
       "<matplotlib.figure.Figure at 0x7f93868d0ef0>"
      ]
     },
     "metadata": {},
     "output_type": "display_data"
    }
   ],
   "source": [
    "plt.plot(xVec,ratio,label=\"RBF\")\n",
    "plt.plot(xVec,rario,label=\"Regularized RBF\")\n",
    "plt.plot(xVec,katio,label=\"Kriging\")\n",
    "axes = plt.gca()\n",
    "axes.set_ylim([0.7,1.3])\n",
    "axes.set_xlim([-7.5,7.5])\n",
    "plt.suptitle(\"One-dimensional function value ratio to underlying\",fontsize=20)\n",
    "plt.legend()"
   ]
  },
  {
   "cell_type": "code",
   "execution_count": 19,
   "metadata": {},
   "outputs": [
    {
     "name": "stdout",
     "output_type": "stream",
     "text": [
      "[  1.00000000e+00   5.30363468e-16  -6.21487844e-15  -3.05265211e-15\n",
      "   3.64292516e-15   5.48367390e-15   5.81679354e-16   9.87054569e-16\n",
      "   1.76926232e-17]\n",
      "[  1.49218227e-15   1.00000000e+00  -2.26127633e-15   2.66511783e-15\n",
      "   7.88916753e-17   2.46248076e-15   6.76501688e-15   5.47768400e-17\n",
      "   5.71616810e-16]\n",
      "[  2.44591048e-15   8.89384631e-18   1.00000000e+00  -5.80721204e-16\n",
      "   3.35778904e-15  -2.42768322e-15   3.50069754e-15  -1.17093582e-15\n",
      "   7.92959144e-16]\n",
      "[  1.93125931e-15   8.44525730e-16   4.40802729e-15   1.00000000e+00\n",
      "  -1.37012254e-15  -5.45735700e-15  -1.84571169e-15  -6.73069339e-16\n",
      "   2.10707028e-17]\n",
      "[  1.93314487e-16   4.74134824e-15  -4.10071371e-15   5.83005450e-15\n",
      "   1.00000000e+00   4.46061303e-15  -1.26878613e-14   6.51387739e-15\n",
      "  -1.94532357e-15]\n",
      "[ -1.00117736e-15   4.15182666e-15  -7.86048137e-15   1.27288688e-14\n",
      "  -6.01723932e-15   1.00000000e+00  -1.11655297e-14   3.97088081e-15\n",
      "  -2.25395847e-15]\n",
      "[  3.44995612e-16   9.33979183e-16   2.67875823e-15  -2.99483493e-15\n",
      "   7.20260706e-15   3.59215554e-15   1.00000000e+00   2.36961374e-15\n",
      "  -3.37933471e-16]\n",
      "[  5.29123731e-17   1.02326097e-15   9.07142379e-16  -1.32857799e-15\n",
      "   4.27440556e-15  -2.31588664e-15   2.87707799e-15   1.00000000e+00\n",
      "   1.41540986e-16]\n",
      "[  5.55111512e-17  -1.11022302e-16  -1.11022302e-15   0.00000000e+00\n",
      "   2.66453526e-15   1.77635684e-15  -1.77635684e-15  -3.55271368e-15\n",
      "   1.00000000e+00]\n",
      "[ -3.24484073e-04   1.12600111e-03  -2.46132883e-03   4.71051652e-03\n",
      "  -9.04011473e-03   2.07748887e-02   9.96979501e-01  -1.48873943e-02\n",
      "   3.23050898e-03]\n",
      "[-0.00328771  0.01143696 -0.02504895  0.04822619 -0.0943762   0.23760999\n",
      "  0.91397128 -0.11394185  0.02628596]\n",
      "[-0.00643689  0.02247536 -0.04943039  0.09641627 -0.19741473  0.64423494\n",
      "  0.60079035 -0.14546825  0.03599173]\n",
      "[ 0.02197847 -0.02530353  0.04512757 -0.05859624  0.11105511 -0.16904777\n",
      "  0.29454098 -0.39127042  0.38289644]\n"
     ]
    }
   ],
   "source": [
    "resInv = kwargs['resInv']\n",
    "for x in [-2,-1.5,-1,-0.5,0,0.5,1,1.5,2,0.99,0.9,0.75,5]:\n",
    "    p = np.matmul(kwargs['points_estimator'](x,**kwargs),resInv)\n",
    "    print(p)\n",
    "                 "
   ]
  },
  {
   "cell_type": "code",
   "execution_count": null,
   "metadata": {},
   "outputs": [],
   "source": []
  },
  {
   "cell_type": "code",
   "execution_count": null,
   "metadata": {},
   "outputs": [],
   "source": []
  }
 ],
 "metadata": {
  "kernelspec": {
   "display_name": "Python 3",
   "language": "python",
   "name": "python3"
  },
  "language_info": {
   "codemirror_mode": {
    "name": "ipython",
    "version": 3
   },
   "file_extension": ".py",
   "mimetype": "text/x-python",
   "name": "python",
   "nbconvert_exporter": "python",
   "pygments_lexer": "ipython3",
   "version": "3.6.4"
  }
 },
 "nbformat": 4,
 "nbformat_minor": 2
}
