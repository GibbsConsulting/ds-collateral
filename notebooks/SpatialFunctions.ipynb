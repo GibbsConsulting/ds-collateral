{
 "cells": [
  {
   "cell_type": "markdown",
   "metadata": {},
   "source": [
    "## Spatial statistics and generalised interpolation\n",
    "\n",
    "Notebook investigating multidimensional interpolation, including Radial Basis Functions (RBF) and Kriging examples"
   ]
  },
  {
   "cell_type": "code",
   "execution_count": 3,
   "metadata": {},
   "outputs": [],
   "source": [
    "import pandas as pd\n",
    "import numpy as np\n",
    "import matplotlib.pyplot as plt\n",
    "%matplotlib inline  "
   ]
  },
  {
   "cell_type": "markdown",
   "metadata": {},
   "source": [
    "### Linear weighting\n",
    "\n",
    "Consider the real function $f(X)$ where $X$ is a vector in an m-dimensional space. Take also a set of points $X_i$ with $i$ running from $1$ to $N$. We can form the vector $F$ with $F_i = f(X_i)$.\n",
    "\n",
    "Define the estimated function $g(X) = \\sum_{i=1}^N W_i(X) F_i = W(X).F$, where $W(X)$ is a vector of weights; in general these weights are a function of $X$. One-dimensional linear interpolation, for example, corresponds to the case where $m=1$ and the weights are determined by distances to the nearest neighbour(s).\n",
    "\n",
    "Two cases of interest are RBF and Kriging. The general approach is to define the function $f(X)$, then a procedure for preparing the values needed to pass to a weight generating function that determines $W(X)$; in other words precalculation of the parameters used within $W(X)$ is desirable for efficiency. "
   ]
  },
  {
   "cell_type": "markdown",
   "metadata": {},
   "source": [
    "### RBF\n",
    "\n",
    "Radial basis functions are based around a kernel function $k(A,B)$ that represents some idea of the distance between points $A$ and $B$. In general the kernel function is symmetric, so $k(A,B) = k(B,A)$, and also translationally invariant, so $k(A,B) = \\phi(A-B)$.\n",
    "\n",
    "Consider the function $h(X) = \\sum_i k(X,X_i) \\alpha_i$ for a vector $\\alpha$ of factors, one for each point $X_i$. Then we can form $H$ according to $H_i = h(X_i)$, and then find the factors $\\alpha$ that minimize the regularized\n",
    "likelihood $L = -\\frac{1}{2}\\left(F-H\\right)^2 + \\frac{\\lambda}{2}\\left(\\alpha K \\alpha\\right)$, where the matrix $K$ has been formed as $K_{ij} = k(X_i,X_j)$, so $H = K.\\alpha$.\n",
    "\n",
    "Minimizing the likelihood yields $\\alpha = \\left(K-\\lambda\\right)^{-1} F$. Note that this means that the estimated function is of the linear weighting form described above."
   ]
  },
  {
   "cell_type": "code",
   "execution_count": 250,
   "metadata": {},
   "outputs": [],
   "source": [
    "def simple_kernel(a,b):\n",
    "    diff = a-b\n",
    "    len2 = np.dot(diff,diff)\n",
    "    return 1.0/(1.0+0.5*len2)"
   ]
  },
  {
   "cell_type": "code",
   "execution_count": 251,
   "metadata": {},
   "outputs": [
    {
     "data": {
      "text/plain": [
       "0.1111111111111111"
      ]
     },
     "execution_count": 251,
     "metadata": {},
     "output_type": "execute_result"
    }
   ],
   "source": [
    "a1 = np.array([1,2,0])\n",
    "b1 = np.array([1,-2,0])\n",
    "simple_kernel(a1,b1)"
   ]
  },
  {
   "cell_type": "code",
   "execution_count": 252,
   "metadata": {},
   "outputs": [
    {
     "data": {
      "text/plain": [
       "1.0"
      ]
     },
     "execution_count": 252,
     "metadata": {},
     "output_type": "execute_result"
    }
   ],
   "source": [
    "simple_kernel(a1,a1)"
   ]
  },
  {
   "cell_type": "code",
   "execution_count": 253,
   "metadata": {},
   "outputs": [],
   "source": [
    "def function(x):\n",
    "    return x[1]*x[0] + np.log(x[0]+0.001)+x[2]*x[2]*x[2]"
   ]
  },
  {
   "cell_type": "code",
   "execution_count": 254,
   "metadata": {},
   "outputs": [
    {
     "data": {
      "text/html": [
       "<div>\n",
       "<table border=\"1\" class=\"dataframe\">\n",
       "  <thead>\n",
       "    <tr style=\"text-align: right;\">\n",
       "      <th></th>\n",
       "      <th>0</th>\n",
       "      <th>1</th>\n",
       "      <th>2</th>\n",
       "    </tr>\n",
       "  </thead>\n",
       "  <tbody>\n",
       "    <tr>\n",
       "      <th>0</th>\n",
       "      <td>1</td>\n",
       "      <td>2</td>\n",
       "      <td>3</td>\n",
       "    </tr>\n",
       "    <tr>\n",
       "      <th>1</th>\n",
       "      <td>4</td>\n",
       "      <td>5</td>\n",
       "      <td>6</td>\n",
       "    </tr>\n",
       "    <tr>\n",
       "      <th>2</th>\n",
       "      <td>0</td>\n",
       "      <td>0</td>\n",
       "      <td>0</td>\n",
       "    </tr>\n",
       "    <tr>\n",
       "      <th>3</th>\n",
       "      <td>1</td>\n",
       "      <td>0</td>\n",
       "      <td>0</td>\n",
       "    </tr>\n",
       "  </tbody>\n",
       "</table>\n",
       "</div>"
      ],
      "text/plain": [
       "   0  1  2\n",
       "0  1  2  3\n",
       "1  4  5  6\n",
       "2  0  0  0\n",
       "3  1  0  0"
      ]
     },
     "execution_count": 254,
     "metadata": {},
     "output_type": "execute_result"
    }
   ],
   "source": [
    "test_points = pd.DataFrame([[1,2,3],\n",
    "                           [4,5,6],\n",
    "                           [0,0,0],\n",
    "                           [1,0,0]])\n",
    "test_points"
   ]
  },
  {
   "cell_type": "code",
   "execution_count": 316,
   "metadata": {},
   "outputs": [],
   "source": [
    "def form_rbf_artifacts(function, kernel, points, lambd = 0):\n",
    "    # Form the F vector\n",
    "    pointValues = points.apply(function,axis=1)\n",
    "    numPoints = len(points)\n",
    "    # Form the kernel matrix K\n",
    "    cMat = np.zeros(shape=(numPoints,numPoints))\n",
    "    for i in range(numPoints):\n",
    "        iRow = np.array(points.iloc[i])\n",
    "        for j in range(i,numPoints):\n",
    "            cMat[i,j] = kernel(iRow,points.iloc[j])\n",
    "            cMat[j,i] = cMat[i,j]\n",
    "    resolv = cMat - (lambd*np.identity(numPoints))\n",
    "    resInv = np.linalg.inv(resolv)\n",
    "    alpha = np.matmul(resInv, pointValues)\n",
    "    def points_estimator(x,kernel,points,**kwargs):\n",
    "        #def kBind(pointsRow):\n",
    "        #    return kernel(x,pointsRow)\n",
    "        #return points.apply(kBind,axis=1)\n",
    "        return points.apply(lambda pointsRow: kernel(x,pointsRow),axis=1)\n",
    "    def estimator(x,alpha,**kwargs):\n",
    "        kVec = points_estimator(x,**kwargs)\n",
    "        return np.dot(kVec,alpha)\n",
    "        \n",
    "    return estimator , {\n",
    "        'kernel':kernel,\n",
    "        'function':function,\n",
    "        'pointValues':pointValues,\n",
    "        'points':points,\n",
    "        'lambda':lambd,\n",
    "        'alpha':alpha,\n",
    "        'resInv':resInv,\n",
    "        'points_estimator':points_estimator,\n",
    "    }"
   ]
  },
  {
   "cell_type": "code",
   "execution_count": 317,
   "metadata": {},
   "outputs": [],
   "source": [
    "estimator, kwargs = form_rbf_artifacts(function, simple_kernel, test_points)"
   ]
  },
  {
   "cell_type": "code",
   "execution_count": 318,
   "metadata": {},
   "outputs": [
    {
     "data": {
      "text/plain": [
       "96.226808734351479"
      ]
     },
     "execution_count": 318,
     "metadata": {},
     "output_type": "execute_result"
    }
   ],
   "source": [
    "estimator(np.array([3,4,5]),**kwargs)"
   ]
  },
  {
   "cell_type": "code",
   "execution_count": 319,
   "metadata": {},
   "outputs": [
    {
     "data": {
      "text/plain": [
       "29.00099950033308"
      ]
     },
     "execution_count": 319,
     "metadata": {},
     "output_type": "execute_result"
    }
   ],
   "source": [
    "estimator([1,2,3],**kwargs)"
   ]
  },
  {
   "cell_type": "code",
   "execution_count": 320,
   "metadata": {},
   "outputs": [
    {
     "data": {
      "text/plain": [
       "29.00099950033308"
      ]
     },
     "execution_count": 320,
     "metadata": {},
     "output_type": "execute_result"
    }
   ],
   "source": [
    "estimator(test_points.iloc[0],**kwargs)"
   ]
  },
  {
   "cell_type": "code",
   "execution_count": 321,
   "metadata": {},
   "outputs": [
    {
     "data": {
      "text/plain": [
       "0     29.001000\n",
       "1    237.386544\n",
       "2     -6.907755\n",
       "3      0.001000\n",
       "dtype: float64"
      ]
     },
     "execution_count": 321,
     "metadata": {},
     "output_type": "execute_result"
    }
   ],
   "source": [
    "kwargs['pointValues']"
   ]
  },
  {
   "cell_type": "markdown",
   "metadata": {},
   "source": [
    "## One dimensional test function\n",
    "\n",
    "We use $f(x) = x^4 - 5$"
   ]
  },
  {
   "cell_type": "code",
   "execution_count": 322,
   "metadata": {},
   "outputs": [],
   "source": [
    "func1D = lambda x: (x*x*x*x -5)"
   ]
  },
  {
   "cell_type": "code",
   "execution_count": 323,
   "metadata": {},
   "outputs": [],
   "source": [
    "func1DEst, kwargs = form_rbf_artifacts(func1D, simple_kernel, pd.DataFrame([-2,-1.5,-1,-0.5,0,0.5,1,1.5,2]))"
   ]
  },
  {
   "cell_type": "code",
   "execution_count": 324,
   "metadata": {},
   "outputs": [],
   "source": [
    "xVec = np.arange(-400,400) / 100"
   ]
  },
  {
   "cell_type": "code",
   "execution_count": 325,
   "metadata": {},
   "outputs": [],
   "source": [
    "vals = [func1DEst(x,**kwargs) for x in xVec]\n",
    "actVals = [func1D(x) for x in xVec]\n",
    "ratio = [v/a for v,a in zip(vals,actVals)]"
   ]
  },
  {
   "cell_type": "code",
   "execution_count": 326,
   "metadata": {},
   "outputs": [
    {
     "data": {
      "text/plain": [
       "[<matplotlib.lines.Line2D at 0x7fdab75cb470>]"
      ]
     },
     "execution_count": 326,
     "metadata": {},
     "output_type": "execute_result"
    },
    {
     "data": {
      "image/png": "[encoded data removed]",
      "text/plain": [
       "<matplotlib.figure.Figure at 0x7fdab75cb400>"
      ]
     },
     "metadata": {},
     "output_type": "display_data"
    }
   ],
   "source": [
    "plt.plot(xVec,vals)\n",
    "plt.plot(xVec,actVals)\n"
   ]
  },
  {
   "cell_type": "code",
   "execution_count": 327,
   "metadata": {},
   "outputs": [
    {
     "data": {
      "text/plain": [
       "(0.7, 1.3)"
      ]
     },
     "execution_count": 327,
     "metadata": {},
     "output_type": "execute_result"
    },
    {
     "data": {
      "image/png": "[encoded data removed]",
      "text/plain": [
       "<matplotlib.figure.Figure at 0x7fdab76325f8>"
      ]
     },
     "metadata": {},
     "output_type": "display_data"
    }
   ],
   "source": [
    "plt.plot(xVec,ratio)\n",
    "axes = plt.gca()\n",
    "axes.set_ylim([0.7,1.3])"
   ]
  },
  {
   "cell_type": "code",
   "execution_count": 330,
   "metadata": {},
   "outputs": [
    {
     "name": "stdout",
     "output_type": "stream",
     "text": [
      "[  1.00000000e+00   3.58046925e-15  -3.02535774e-15   5.88418203e-15\n",
      "   4.32986980e-15   1.77635684e-15  -2.88657986e-15  -8.88178420e-16\n",
      "  -4.44089210e-16]\n",
      "[  1.74860126e-15   1.00000000e+00   9.65894031e-15   3.33066907e-16\n",
      "   1.05471187e-14  -6.88338275e-15  -2.22044605e-15  -2.22044605e-15\n",
      "   1.11022302e-15]\n",
      "[  1.29063427e-15   9.99200722e-16   1.00000000e+00  -3.33066907e-15\n",
      "   4.21884749e-15   5.55111512e-15   8.88178420e-16  -8.88178420e-16\n",
      "  -4.44089210e-16]\n",
      "[  1.12410081e-15  -2.22044605e-15   2.22044605e-16   1.00000000e+00\n",
      "   5.55111512e-15  -4.44089210e-15   7.54951657e-15  -5.32907052e-15\n",
      "   1.77635684e-15]\n",
      "[ -2.35922393e-16   3.63598041e-15  -9.10382880e-15   1.24344979e-14\n",
      "   1.00000000e+00  -5.32907052e-15   8.88178420e-15   0.00000000e+00\n",
      "  -1.77635684e-15]\n",
      "[ -5.13478149e-16   1.16573418e-15  -7.77156117e-15   5.55111512e-15\n",
      "   3.10862447e-15   1.00000000e+00  -1.77635684e-15   8.88178420e-15\n",
      "  -6.21724894e-15]\n",
      "[ -4.71844785e-16   1.66533454e-16  -4.44089210e-16   0.00000000e+00\n",
      "   8.88178420e-16   0.00000000e+00   1.00000000e+00   0.00000000e+00\n",
      "   0.00000000e+00]\n",
      "[ -2.77555756e-17   1.99840144e-15  -4.66293670e-15   7.99360578e-15\n",
      "  -9.76996262e-15   7.10542736e-15   8.88178420e-15   1.00000000e+00\n",
      "  -1.77635684e-15]\n",
      "[ -2.49800181e-16   2.22044605e-16  -4.44089210e-16   4.88498131e-15\n",
      "  -7.10542736e-15   1.24344979e-14   3.55271368e-15   0.00000000e+00\n",
      "   1.00000000e+00]\n",
      "[ -3.24484073e-04   1.12600111e-03  -2.46132883e-03   4.71051652e-03\n",
      "  -9.04011473e-03   2.07748887e-02   9.96979501e-01  -1.48873943e-02\n",
      "   3.23050898e-03]\n",
      "[-0.00328771  0.01143696 -0.02504895  0.04822619 -0.0943762   0.23760999\n",
      "  0.91397128 -0.11394185  0.02628596]\n",
      "[-0.00643689  0.02247536 -0.04943039  0.09641627 -0.19741473  0.64423494\n",
      "  0.60079035 -0.14546825  0.03599173]\n"
     ]
    }
   ],
   "source": [
    "resInv = kwargs['resInv']\n",
    "for x in [-2,-1.5,-1,-0.5,0,0.5,1,1.5,2,0.99,0.9,0.75]:\n",
    "    p = np.matmul(kwargs['points_estimator'](x,**kwargs),resInv)\n",
    "    print(p)\n",
    "                 "
   ]
  },
  {
   "cell_type": "code",
   "execution_count": null,
   "metadata": {},
   "outputs": [],
   "source": []
  },
  {
   "cell_type": "code",
   "execution_count": null,
   "metadata": {},
   "outputs": [],
   "source": []
  }
 ],
 "metadata": {
  "kernelspec": {
   "display_name": "Python 3",
   "language": "python",
   "name": "python3"
  },
  "language_info": {
   "codemirror_mode": {
    "name": "ipython",
    "version": 3
   },
   "file_extension": ".py",
   "mimetype": "text/x-python",
   "name": "python",
   "nbconvert_exporter": "python",
   "pygments_lexer": "ipython3",
   "version": "3.6.4"
  }
 },
 "nbformat": 4,
 "nbformat_minor": 2
}
