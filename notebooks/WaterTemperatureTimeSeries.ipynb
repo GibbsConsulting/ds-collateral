{
 "cells": [
  {
   "cell_type": "code",
   "execution_count": 2,
   "metadata": {},
   "outputs": [],
   "source": [
    "import pandas as pd\n",
    "import os"
   ]
  },
  {
   "cell_type": "code",
   "execution_count": 5,
   "metadata": {},
   "outputs": [],
   "source": [
    "raw_temps = pd.read_csv(\"raw_data/water_temps_kok002.csv\",header=2)"
   ]
  },
  {
   "cell_type": "code",
   "execution_count": 8,
   "metadata": {},
   "outputs": [
    {
     "data": {
      "text/html": [
       "<div>\n",
       "<table border=\"1\" class=\"dataframe\">\n",
       "  <thead>\n",
       "    <tr style=\"text-align: right;\">\n",
       "      <th></th>\n",
       "      <th>Timestamp (UTC-08:00)</th>\n",
       "      <th>Value (Celsius)</th>\n",
       "      <th>Grade Code</th>\n",
       "      <th>Approval Level</th>\n",
       "      <th>Interpolation Type</th>\n",
       "      <th>Comment</th>\n",
       "    </tr>\n",
       "  </thead>\n",
       "  <tbody>\n",
       "    <tr>\n",
       "      <th>0</th>\n",
       "      <td>2012-08-24 19:00:00</td>\n",
       "      <td>15.605</td>\n",
       "      <td>0</td>\n",
       "      <td>0</td>\n",
       "      <td>1</td>\n",
       "      <td>NaN</td>\n",
       "    </tr>\n",
       "    <tr>\n",
       "      <th>1</th>\n",
       "      <td>2012-08-24 20:00:00</td>\n",
       "      <td>15.509</td>\n",
       "      <td>0</td>\n",
       "      <td>0</td>\n",
       "      <td>1</td>\n",
       "      <td>NaN</td>\n",
       "    </tr>\n",
       "    <tr>\n",
       "      <th>2</th>\n",
       "      <td>2012-08-24 21:00:00</td>\n",
       "      <td>15.103</td>\n",
       "      <td>0</td>\n",
       "      <td>0</td>\n",
       "      <td>1</td>\n",
       "      <td>NaN</td>\n",
       "    </tr>\n",
       "    <tr>\n",
       "      <th>3</th>\n",
       "      <td>2012-08-24 22:00:00</td>\n",
       "      <td>14.721</td>\n",
       "      <td>0</td>\n",
       "      <td>0</td>\n",
       "      <td>1</td>\n",
       "      <td>NaN</td>\n",
       "    </tr>\n",
       "    <tr>\n",
       "      <th>4</th>\n",
       "      <td>2012-08-24 23:00:00</td>\n",
       "      <td>14.457</td>\n",
       "      <td>0</td>\n",
       "      <td>0</td>\n",
       "      <td>1</td>\n",
       "      <td>NaN</td>\n",
       "    </tr>\n",
       "    <tr>\n",
       "      <th>5</th>\n",
       "      <td>2012-08-25 00:00:00</td>\n",
       "      <td>14.194</td>\n",
       "      <td>0</td>\n",
       "      <td>0</td>\n",
       "      <td>1</td>\n",
       "      <td>NaN</td>\n",
       "    </tr>\n",
       "    <tr>\n",
       "      <th>6</th>\n",
       "      <td>2012-08-25 01:00:00</td>\n",
       "      <td>13.930</td>\n",
       "      <td>0</td>\n",
       "      <td>0</td>\n",
       "      <td>1</td>\n",
       "      <td>NaN</td>\n",
       "    </tr>\n",
       "    <tr>\n",
       "      <th>7</th>\n",
       "      <td>2012-08-25 02:00:00</td>\n",
       "      <td>13.714</td>\n",
       "      <td>0</td>\n",
       "      <td>0</td>\n",
       "      <td>1</td>\n",
       "      <td>NaN</td>\n",
       "    </tr>\n",
       "    <tr>\n",
       "      <th>8</th>\n",
       "      <td>2012-08-25 03:00:00</td>\n",
       "      <td>13.522</td>\n",
       "      <td>0</td>\n",
       "      <td>0</td>\n",
       "      <td>1</td>\n",
       "      <td>NaN</td>\n",
       "    </tr>\n",
       "    <tr>\n",
       "      <th>9</th>\n",
       "      <td>2012-08-25 04:00:00</td>\n",
       "      <td>13.329</td>\n",
       "      <td>0</td>\n",
       "      <td>0</td>\n",
       "      <td>1</td>\n",
       "      <td>NaN</td>\n",
       "    </tr>\n",
       "  </tbody>\n",
       "</table>\n",
       "</div>"
      ],
      "text/plain": [
       "  Timestamp (UTC-08:00)  Value (Celsius)  Grade Code  Approval Level  \\\n",
       "0   2012-08-24 19:00:00           15.605           0               0   \n",
       "1   2012-08-24 20:00:00           15.509           0               0   \n",
       "2   2012-08-24 21:00:00           15.103           0               0   \n",
       "3   2012-08-24 22:00:00           14.721           0               0   \n",
       "4   2012-08-24 23:00:00           14.457           0               0   \n",
       "5   2012-08-25 00:00:00           14.194           0               0   \n",
       "6   2012-08-25 01:00:00           13.930           0               0   \n",
       "7   2012-08-25 02:00:00           13.714           0               0   \n",
       "8   2012-08-25 03:00:00           13.522           0               0   \n",
       "9   2012-08-25 04:00:00           13.329           0               0   \n",
       "\n",
       "   Interpolation Type  Comment  \n",
       "0                   1      NaN  \n",
       "1                   1      NaN  \n",
       "2                   1      NaN  \n",
       "3                   1      NaN  \n",
       "4                   1      NaN  \n",
       "5                   1      NaN  \n",
       "6                   1      NaN  \n",
       "7                   1      NaN  \n",
       "8                   1      NaN  \n",
       "9                   1      NaN  "
      ]
     },
     "execution_count": 8,
     "metadata": {},
     "output_type": "execute_result"
    }
   ],
   "source": [
    "raw_temps[:10]"
   ]
  },
  {
   "cell_type": "code",
   "execution_count": 10,
   "metadata": {},
   "outputs": [
    {
     "name": "stdout",
     "output_type": "stream",
     "text": [
      "<class 'pandas.core.frame.DataFrame'>\n",
      "RangeIndex: 25646 entries, 0 to 25645\n",
      "Data columns (total 6 columns):\n",
      "Timestamp (UTC-08:00)    25646 non-null object\n",
      "Value (Celsius)          25479 non-null float64\n",
      "Grade Code               25646 non-null int64\n",
      "Approval Level           25646 non-null int64\n",
      "Interpolation Type       25646 non-null int64\n",
      "Comment                  0 non-null float64\n",
      "dtypes: float64(2), int64(3), object(1)\n",
      "memory usage: 1.2+ MB\n"
     ]
    }
   ],
   "source": [
    "raw_temps.info()"
   ]
  },
  {
   "cell_type": "code",
   "execution_count": 11,
   "metadata": {},
   "outputs": [],
   "source": [
    "dt = pd.to_datetime(raw_temps['Timestamp (UTC-08:00)'])"
   ]
  },
  {
   "cell_type": "code",
   "execution_count": 15,
   "metadata": {},
   "outputs": [
    {
     "data": {
      "text/plain": [
       "0   2012-08-24 19:00:00\n",
       "1   2012-08-24 20:00:00\n",
       "2   2012-08-24 21:00:00\n",
       "3   2012-08-24 22:00:00\n",
       "4   2012-08-24 23:00:00\n",
       "Name: Timestamp (UTC-08:00), dtype: datetime64[ns]"
      ]
     },
     "execution_count": 15,
     "metadata": {},
     "output_type": "execute_result"
    }
   ],
   "source": [
    "dt.head()"
   ]
  },
  {
   "cell_type": "code",
   "execution_count": 17,
   "metadata": {},
   "outputs": [],
   "source": [
    "temps = pd.DataFrame({'Timestamp':dt,'Temperature':raw_temps['Value (Celsius)']})"
   ]
  },
  {
   "cell_type": "code",
   "execution_count": 22,
   "metadata": {},
   "outputs": [
    {
     "data": {
      "text/html": [
       "<div>\n",
       "<table border=\"1\" class=\"dataframe\">\n",
       "  <thead>\n",
       "    <tr style=\"text-align: right;\">\n",
       "      <th></th>\n",
       "      <th>Temperature</th>\n",
       "      <th>Timestamp</th>\n",
       "    </tr>\n",
       "  </thead>\n",
       "  <tbody>\n",
       "    <tr>\n",
       "      <th>25636</th>\n",
       "      <td>16.892</td>\n",
       "      <td>2015-07-29 01:00:00</td>\n",
       "    </tr>\n",
       "    <tr>\n",
       "      <th>25637</th>\n",
       "      <td>16.654</td>\n",
       "      <td>2015-07-29 02:00:00</td>\n",
       "    </tr>\n",
       "    <tr>\n",
       "      <th>25638</th>\n",
       "      <td>16.439</td>\n",
       "      <td>2015-07-29 03:00:00</td>\n",
       "    </tr>\n",
       "    <tr>\n",
       "      <th>25639</th>\n",
       "      <td>16.225</td>\n",
       "      <td>2015-07-29 04:00:00</td>\n",
       "    </tr>\n",
       "    <tr>\n",
       "      <th>25640</th>\n",
       "      <td>16.034</td>\n",
       "      <td>2015-07-29 05:00:00</td>\n",
       "    </tr>\n",
       "    <tr>\n",
       "      <th>25641</th>\n",
       "      <td>15.891</td>\n",
       "      <td>2015-07-29 06:00:00</td>\n",
       "    </tr>\n",
       "    <tr>\n",
       "      <th>25642</th>\n",
       "      <td>15.748</td>\n",
       "      <td>2015-07-29 07:00:00</td>\n",
       "    </tr>\n",
       "    <tr>\n",
       "      <th>25643</th>\n",
       "      <td>15.676</td>\n",
       "      <td>2015-07-29 08:00:00</td>\n",
       "    </tr>\n",
       "    <tr>\n",
       "      <th>25644</th>\n",
       "      <td>15.748</td>\n",
       "      <td>2015-07-29 09:00:00</td>\n",
       "    </tr>\n",
       "    <tr>\n",
       "      <th>25645</th>\n",
       "      <td>15.867</td>\n",
       "      <td>2015-07-29 10:00:00</td>\n",
       "    </tr>\n",
       "  </tbody>\n",
       "</table>\n",
       "</div>"
      ],
      "text/plain": [
       "       Temperature           Timestamp\n",
       "25636       16.892 2015-07-29 01:00:00\n",
       "25637       16.654 2015-07-29 02:00:00\n",
       "25638       16.439 2015-07-29 03:00:00\n",
       "25639       16.225 2015-07-29 04:00:00\n",
       "25640       16.034 2015-07-29 05:00:00\n",
       "25641       15.891 2015-07-29 06:00:00\n",
       "25642       15.748 2015-07-29 07:00:00\n",
       "25643       15.676 2015-07-29 08:00:00\n",
       "25644       15.748 2015-07-29 09:00:00\n",
       "25645       15.867 2015-07-29 10:00:00"
      ]
     },
     "execution_count": 22,
     "metadata": {},
     "output_type": "execute_result"
    }
   ],
   "source": [
    "temps[-10:]"
   ]
  },
  {
   "cell_type": "code",
   "execution_count": 23,
   "metadata": {},
   "outputs": [
    {
     "name": "stdout",
     "output_type": "stream",
     "text": [
      "<class 'pandas.core.frame.DataFrame'>\n",
      "RangeIndex: 25646 entries, 0 to 25645\n",
      "Data columns (total 2 columns):\n",
      "Temperature    25479 non-null float64\n",
      "Timestamp      25646 non-null datetime64[ns]\n",
      "dtypes: datetime64[ns](1), float64(1)\n",
      "memory usage: 400.8 KB\n"
     ]
    }
   ],
   "source": [
    "temps.info()"
   ]
  },
  {
   "cell_type": "code",
   "execution_count": null,
   "metadata": {},
   "outputs": [],
   "source": []
  }
 ],
 "metadata": {
  "kernelspec": {
   "display_name": "Python 3",
   "language": "python",
   "name": "python3"
  },
  "language_info": {
   "codemirror_mode": {
    "name": "ipython",
    "version": 3
   },
   "file_extension": ".py",
   "mimetype": "text/x-python",
   "name": "python",
   "nbconvert_exporter": "python",
   "pygments_lexer": "ipython3",
   "version": "3.6.4"
  }
 },
 "nbformat": 4,
 "nbformat_minor": 2
}
